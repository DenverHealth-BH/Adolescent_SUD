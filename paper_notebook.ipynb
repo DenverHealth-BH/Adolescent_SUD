{
 "cells": [
  {
   "cell_type": "markdown",
   "metadata": {},
   "source": [
    "# This notebook is created in association with the paper entitled:\n",
    "\n",
    "## \"Adolescent subtance use disorder correlates with psychiatric hospitalization following an emergency department visit\" "
   ]
  },
  {
   "cell_type": "markdown",
   "metadata": {},
   "source": [
    "## Import Necessary Libraries"
   ]
  },
  {
   "cell_type": "code",
   "execution_count": 30,
   "metadata": {},
   "outputs": [],
   "source": [
    "# standard libraries\n",
    "import numpy as np\n",
    "import pandas as pd\n",
    "import matplotlib.pyplot as plt\n",
    "\n",
    "# Statistics libraries/functions\n",
    "from scipy.stats import chi2_contingency\n",
    "from scipy.stats import fisher_exact\n",
    "from scipy.stats import ttest_ind as tt\n",
    "from scipy.stats import normaltest as normal\n",
    "\n",
    "# Custom libraries/functions\n",
    "from grouped_normal_counts import gnc\n",
    "from chi2_table import chi2_table\n",
    "\n",
    "# Define row, column, and data-width options\n",
    "pd.set_option('display.max_rows', 100)\n",
    "pd.set_option('display.max_columns', None)\n",
    "pd.set_option('display.width', 10000)"
   ]
  },
  {
   "cell_type": "markdown",
   "metadata": {},
   "source": [
    "## Read in data file \n",
    "- Note: Data file has been previously cleaned and pruned to final form prior to this notebook version. It is not possible to share all raw data without sacrificing patient privacy. "
   ]
  },
  {
   "cell_type": "code",
   "execution_count": 29,
   "metadata": {},
   "outputs": [
    {
     "name": "stdout",
     "output_type": "stream",
     "text": [
      "(14852, 26)\n",
      "21.0\n",
      "15.0\n"
     ]
    }
   ],
   "source": [
    "df = pd.read_csv('../paper_data.csv', index_col=[0])\n",
    "\n",
    "#print out dataset characteristics to confirm correct file.\n",
    "print(df.shape)\n",
    "print(df.age.max())\n",
    "print(df.age.min())"
   ]
  },
  {
   "cell_type": "markdown",
   "metadata": {},
   "source": [
    "## Descriptive statistics and demographic comparisons"
   ]
  },
  {
   "cell_type": "code",
   "execution_count": 32,
   "metadata": {},
   "outputs": [
    {
     "data": {
      "text/html": [
       "<div>\n",
       "<style scoped>\n",
       "    .dataframe tbody tr th:only-of-type {\n",
       "        vertical-align: middle;\n",
       "    }\n",
       "\n",
       "    .dataframe tbody tr th {\n",
       "        vertical-align: top;\n",
       "    }\n",
       "\n",
       "    .dataframe thead th {\n",
       "        text-align: right;\n",
       "    }\n",
       "</style>\n",
       "<table border=\"1\" class=\"dataframe\">\n",
       "  <thead>\n",
       "    <tr style=\"text-align: right;\">\n",
       "      <th></th>\n",
       "      <th>count_SUD_dx_False</th>\n",
       "      <th>percent_SUD_dx_False</th>\n",
       "      <th>count_SUD_dx_True</th>\n",
       "      <th>percent_SUD_dx_True</th>\n",
       "    </tr>\n",
       "    <tr>\n",
       "      <th>Sex</th>\n",
       "      <th></th>\n",
       "      <th></th>\n",
       "      <th></th>\n",
       "      <th></th>\n",
       "    </tr>\n",
       "  </thead>\n",
       "  <tbody>\n",
       "    <tr>\n",
       "      <th>Female</th>\n",
       "      <td>7069</td>\n",
       "      <td>0.546248</td>\n",
       "      <td>710</td>\n",
       "      <td>0.371533</td>\n",
       "    </tr>\n",
       "    <tr>\n",
       "      <th>Male</th>\n",
       "      <td>5872</td>\n",
       "      <td>0.453752</td>\n",
       "      <td>1201</td>\n",
       "      <td>0.628467</td>\n",
       "    </tr>\n",
       "  </tbody>\n",
       "</table>\n",
       "</div>"
      ],
      "text/plain": [
       "        count_SUD_dx_False  percent_SUD_dx_False  count_SUD_dx_True  percent_SUD_dx_True\n",
       "Sex                                                                                     \n",
       "Female                7069              0.546248                710             0.371533\n",
       "Male                  5872              0.453752               1201             0.628467"
      ]
     },
     "execution_count": 32,
     "metadata": {},
     "output_type": "execute_result"
    }
   ],
   "source": [
    "gnc(df, 'Sex', 'SUD_dx')"
   ]
  },
  {
   "cell_type": "code",
   "execution_count": 35,
   "metadata": {},
   "outputs": [
    {
     "data": {
      "text/html": [
       "<div>\n",
       "<style scoped>\n",
       "    .dataframe tbody tr th:only-of-type {\n",
       "        vertical-align: middle;\n",
       "    }\n",
       "\n",
       "    .dataframe tbody tr th {\n",
       "        vertical-align: top;\n",
       "    }\n",
       "\n",
       "    .dataframe thead th {\n",
       "        text-align: right;\n",
       "    }\n",
       "</style>\n",
       "<table border=\"1\" class=\"dataframe\">\n",
       "  <thead>\n",
       "    <tr style=\"text-align: right;\">\n",
       "      <th></th>\n",
       "      <th>count_SUD_dx_True</th>\n",
       "      <th>count_SUD_dx_False</th>\n",
       "      <th>chi2</th>\n",
       "    </tr>\n",
       "    <tr>\n",
       "      <th>Sex</th>\n",
       "      <th></th>\n",
       "      <th></th>\n",
       "      <th></th>\n",
       "    </tr>\n",
       "  </thead>\n",
       "  <tbody>\n",
       "    <tr>\n",
       "      <th>Female</th>\n",
       "      <td>710</td>\n",
       "      <td>7069</td>\n",
       "      <td>chi^2(1) = 203.073, p=0.0</td>\n",
       "    </tr>\n",
       "    <tr>\n",
       "      <th>Male</th>\n",
       "      <td>1201</td>\n",
       "      <td>5872</td>\n",
       "      <td>chi^2(1) = 203.073, p=0.0</td>\n",
       "    </tr>\n",
       "  </tbody>\n",
       "</table>\n",
       "</div>"
      ],
      "text/plain": [
       "        count_SUD_dx_True  count_SUD_dx_False                       chi2\n",
       "Sex                                                                     \n",
       "Female                710                7069  chi^2(1) = 203.073, p=0.0\n",
       "Male                 1201                5872  chi^2(1) = 203.073, p=0.0"
      ]
     },
     "execution_count": 35,
     "metadata": {},
     "output_type": "execute_result"
    }
   ],
   "source": [
    "chi2_table(gnc(df,'Sex','SUD_dx'), ['count_SUD_dx_True','count_SUD_dx_False'])"
   ]
  },
  {
   "cell_type": "code",
   "execution_count": 47,
   "metadata": {},
   "outputs": [
    {
     "data": {
      "text/plain": [
       "SUD_dx      \n",
       "False   0.75    20.0\n",
       "        0.50    19.0\n",
       "        0.25    17.0\n",
       "True    0.75    20.0\n",
       "        0.50    19.0\n",
       "        0.25    17.0\n",
       "Name: age, dtype: float64"
      ]
     },
     "execution_count": 47,
     "metadata": {},
     "output_type": "execute_result"
    }
   ],
   "source": [
    "df.groupby('SUD_dx')['age'].quantile([0.75, 0.50, 0.25])"
   ]
  },
  {
   "cell_type": "code",
   "execution_count": 50,
   "metadata": {},
   "outputs": [
    {
     "data": {
      "text/html": [
       "<div>\n",
       "<style scoped>\n",
       "    .dataframe tbody tr th:only-of-type {\n",
       "        vertical-align: middle;\n",
       "    }\n",
       "\n",
       "    .dataframe tbody tr th {\n",
       "        vertical-align: top;\n",
       "    }\n",
       "\n",
       "    .dataframe thead th {\n",
       "        text-align: right;\n",
       "    }\n",
       "</style>\n",
       "<table border=\"1\" class=\"dataframe\">\n",
       "  <thead>\n",
       "    <tr style=\"text-align: right;\">\n",
       "      <th></th>\n",
       "      <th>count_SUD_dx_False</th>\n",
       "      <th>percent_SUD_dx_False</th>\n",
       "      <th>count_SUD_dx_True</th>\n",
       "      <th>percent_SUD_dx_True</th>\n",
       "    </tr>\n",
       "    <tr>\n",
       "      <th>age</th>\n",
       "      <th></th>\n",
       "      <th></th>\n",
       "      <th></th>\n",
       "      <th></th>\n",
       "    </tr>\n",
       "  </thead>\n",
       "  <tbody>\n",
       "    <tr>\n",
       "      <th>15.0</th>\n",
       "      <td>1381</td>\n",
       "      <td>0.106715</td>\n",
       "      <td>141</td>\n",
       "      <td>0.073783</td>\n",
       "    </tr>\n",
       "    <tr>\n",
       "      <th>16.0</th>\n",
       "      <td>1570</td>\n",
       "      <td>0.121320</td>\n",
       "      <td>221</td>\n",
       "      <td>0.115646</td>\n",
       "    </tr>\n",
       "    <tr>\n",
       "      <th>17.0</th>\n",
       "      <td>1582</td>\n",
       "      <td>0.122247</td>\n",
       "      <td>258</td>\n",
       "      <td>0.135008</td>\n",
       "    </tr>\n",
       "    <tr>\n",
       "      <th>18.0</th>\n",
       "      <td>1760</td>\n",
       "      <td>0.136002</td>\n",
       "      <td>247</td>\n",
       "      <td>0.129252</td>\n",
       "    </tr>\n",
       "    <tr>\n",
       "      <th>19.0</th>\n",
       "      <td>2247</td>\n",
       "      <td>0.173634</td>\n",
       "      <td>312</td>\n",
       "      <td>0.163265</td>\n",
       "    </tr>\n",
       "    <tr>\n",
       "      <th>20.0</th>\n",
       "      <td>2126</td>\n",
       "      <td>0.164284</td>\n",
       "      <td>290</td>\n",
       "      <td>0.151753</td>\n",
       "    </tr>\n",
       "    <tr>\n",
       "      <th>21.0</th>\n",
       "      <td>2275</td>\n",
       "      <td>0.175798</td>\n",
       "      <td>442</td>\n",
       "      <td>0.231293</td>\n",
       "    </tr>\n",
       "  </tbody>\n",
       "</table>\n",
       "</div>"
      ],
      "text/plain": [
       "      count_SUD_dx_False  percent_SUD_dx_False  count_SUD_dx_True  percent_SUD_dx_True\n",
       "age                                                                                   \n",
       "15.0                1381              0.106715                141             0.073783\n",
       "16.0                1570              0.121320                221             0.115646\n",
       "17.0                1582              0.122247                258             0.135008\n",
       "18.0                1760              0.136002                247             0.129252\n",
       "19.0                2247              0.173634                312             0.163265\n",
       "20.0                2126              0.164284                290             0.151753\n",
       "21.0                2275              0.175798                442             0.231293"
      ]
     },
     "execution_count": 50,
     "metadata": {},
     "output_type": "execute_result"
    }
   ],
   "source": [
    "gnc(df,'age','SUD_dx')"
   ]
  },
  {
   "cell_type": "code",
   "execution_count": 51,
   "metadata": {},
   "outputs": [
    {
     "data": {
      "text/plain": [
       "(51.49353197154289,\n",
       " 2.3574409113401693e-09,\n",
       " 6,\n",
       " array([[1326.16496095, 1560.55285483, 1603.2480474 , 1748.76023431,\n",
       "         2229.73464853, 2105.13439267, 2367.4048613 ],\n",
       "        [ 195.83503905,  230.44714517,  236.7519526 ,  258.23976569,\n",
       "          329.26535147,  310.86560733,  349.5951387 ]]))"
      ]
     },
     "execution_count": 51,
     "metadata": {},
     "output_type": "execute_result"
    }
   ],
   "source": [
    "chi2_contingency([[1381,1570,1582,1760,2247,2126,2275],[141,221,258,247,312,290,442]])"
   ]
  },
  {
   "cell_type": "code",
   "execution_count": 52,
   "metadata": {},
   "outputs": [
    {
     "data": {
      "text/html": [
       "<div>\n",
       "<style scoped>\n",
       "    .dataframe tbody tr th:only-of-type {\n",
       "        vertical-align: middle;\n",
       "    }\n",
       "\n",
       "    .dataframe tbody tr th {\n",
       "        vertical-align: top;\n",
       "    }\n",
       "\n",
       "    .dataframe thead th {\n",
       "        text-align: right;\n",
       "    }\n",
       "</style>\n",
       "<table border=\"1\" class=\"dataframe\">\n",
       "  <thead>\n",
       "    <tr style=\"text-align: right;\">\n",
       "      <th></th>\n",
       "      <th>count_SUD_dx_False</th>\n",
       "      <th>percent_SUD_dx_False</th>\n",
       "      <th>count_SUD_dx_True</th>\n",
       "      <th>percent_SUD_dx_True</th>\n",
       "    </tr>\n",
       "    <tr>\n",
       "      <th>race_eth</th>\n",
       "      <th></th>\n",
       "      <th></th>\n",
       "      <th></th>\n",
       "      <th></th>\n",
       "    </tr>\n",
       "  </thead>\n",
       "  <tbody>\n",
       "    <tr>\n",
       "      <th>asian</th>\n",
       "      <td>272</td>\n",
       "      <td>0.021018</td>\n",
       "      <td>34</td>\n",
       "      <td>0.017792</td>\n",
       "    </tr>\n",
       "    <tr>\n",
       "      <th>black</th>\n",
       "      <td>1464</td>\n",
       "      <td>0.113129</td>\n",
       "      <td>208</td>\n",
       "      <td>0.108844</td>\n",
       "    </tr>\n",
       "    <tr>\n",
       "      <th>hispanic</th>\n",
       "      <td>6880</td>\n",
       "      <td>0.531644</td>\n",
       "      <td>796</td>\n",
       "      <td>0.416536</td>\n",
       "    </tr>\n",
       "    <tr>\n",
       "      <th>native_am</th>\n",
       "      <td>49</td>\n",
       "      <td>0.003786</td>\n",
       "      <td>11</td>\n",
       "      <td>0.005756</td>\n",
       "    </tr>\n",
       "    <tr>\n",
       "      <th>other</th>\n",
       "      <td>744</td>\n",
       "      <td>0.057492</td>\n",
       "      <td>89</td>\n",
       "      <td>0.046572</td>\n",
       "    </tr>\n",
       "    <tr>\n",
       "      <th>white</th>\n",
       "      <td>3532</td>\n",
       "      <td>0.272931</td>\n",
       "      <td>773</td>\n",
       "      <td>0.404500</td>\n",
       "    </tr>\n",
       "  </tbody>\n",
       "</table>\n",
       "</div>"
      ],
      "text/plain": [
       "           count_SUD_dx_False  percent_SUD_dx_False  count_SUD_dx_True  percent_SUD_dx_True\n",
       "race_eth                                                                                   \n",
       "asian                     272              0.021018                 34             0.017792\n",
       "black                    1464              0.113129                208             0.108844\n",
       "hispanic                 6880              0.531644                796             0.416536\n",
       "native_am                  49              0.003786                 11             0.005756\n",
       "other                     744              0.057492                 89             0.046572\n",
       "white                    3532              0.272931                773             0.404500"
      ]
     },
     "execution_count": 52,
     "metadata": {},
     "output_type": "execute_result"
    }
   ],
   "source": [
    "gnc(df, 'race_eth', 'SUD_dx')"
   ]
  },
  {
   "cell_type": "code",
   "execution_count": 53,
   "metadata": {},
   "outputs": [
    {
     "data": {
      "text/plain": [
       "(148.38036719097374,\n",
       " 2.9528871645280945e-30,\n",
       " 5,\n",
       " array([[ 266.62712093, 1456.86453003, 6688.33261514,   52.27982763,\n",
       "          725.81827363, 3751.07763264],\n",
       "        [  39.37287907,  215.13546997,  987.66738486,    7.72017237,\n",
       "          107.18172637,  553.92236736]]))"
      ]
     },
     "execution_count": 53,
     "metadata": {},
     "output_type": "execute_result"
    }
   ],
   "source": [
    "chi2_contingency([[272,1464,6880,49,744,3532],[34,208,796,11,89,773]])"
   ]
  },
  {
   "cell_type": "code",
   "execution_count": 54,
   "metadata": {},
   "outputs": [
    {
     "data": {
      "text/html": [
       "<div>\n",
       "<style scoped>\n",
       "    .dataframe tbody tr th:only-of-type {\n",
       "        vertical-align: middle;\n",
       "    }\n",
       "\n",
       "    .dataframe tbody tr th {\n",
       "        vertical-align: top;\n",
       "    }\n",
       "\n",
       "    .dataframe thead th {\n",
       "        text-align: right;\n",
       "    }\n",
       "</style>\n",
       "<table border=\"1\" class=\"dataframe\">\n",
       "  <thead>\n",
       "    <tr style=\"text-align: right;\">\n",
       "      <th></th>\n",
       "      <th>count_SUD_dx_False</th>\n",
       "      <th>percent_SUD_dx_False</th>\n",
       "      <th>count_SUD_dx_True</th>\n",
       "      <th>percent_SUD_dx_True</th>\n",
       "    </tr>\n",
       "    <tr>\n",
       "      <th>insurance</th>\n",
       "      <th></th>\n",
       "      <th></th>\n",
       "      <th></th>\n",
       "      <th></th>\n",
       "    </tr>\n",
       "  </thead>\n",
       "  <tbody>\n",
       "    <tr>\n",
       "      <th>medicaid</th>\n",
       "      <td>7566</td>\n",
       "      <td>0.584653</td>\n",
       "      <td>961</td>\n",
       "      <td>0.502878</td>\n",
       "    </tr>\n",
       "    <tr>\n",
       "      <th>medicare</th>\n",
       "      <td>8</td>\n",
       "      <td>0.000618</td>\n",
       "      <td>2</td>\n",
       "      <td>0.001047</td>\n",
       "    </tr>\n",
       "    <tr>\n",
       "      <th>other</th>\n",
       "      <td>331</td>\n",
       "      <td>0.025578</td>\n",
       "      <td>102</td>\n",
       "      <td>0.053375</td>\n",
       "    </tr>\n",
       "    <tr>\n",
       "      <th>private</th>\n",
       "      <td>3061</td>\n",
       "      <td>0.236535</td>\n",
       "      <td>551</td>\n",
       "      <td>0.288331</td>\n",
       "    </tr>\n",
       "    <tr>\n",
       "      <th>uninsured</th>\n",
       "      <td>1975</td>\n",
       "      <td>0.152616</td>\n",
       "      <td>295</td>\n",
       "      <td>0.154369</td>\n",
       "    </tr>\n",
       "  </tbody>\n",
       "</table>\n",
       "</div>"
      ],
      "text/plain": [
       "           count_SUD_dx_False  percent_SUD_dx_False  count_SUD_dx_True  percent_SUD_dx_True\n",
       "insurance                                                                                  \n",
       "medicaid                 7566              0.584653                961             0.502878\n",
       "medicare                    8              0.000618                  2             0.001047\n",
       "other                     331              0.025578                102             0.053375\n",
       "private                  3061              0.236535                551             0.288331\n",
       "uninsured                1975              0.152616                295             0.154369"
      ]
     },
     "execution_count": 54,
     "metadata": {},
     "output_type": "execute_result"
    }
   ],
   "source": [
    "gnc(df, 'insurance', 'SUD_dx')"
   ]
  },
  {
   "cell_type": "code",
   "execution_count": 55,
   "metadata": {},
   "outputs": [
    {
     "data": {
      "text/plain": [
       "(82.38210145664907,\n",
       " 5.447212353668768e-17,\n",
       " 4,\n",
       " array([[1.09716516e+03, 4.64754377e+02, 2.92079855e+02, 5.57139106e+01,\n",
       "         1.28669539e+00],\n",
       "        [7.42983484e+03, 3.14724562e+03, 1.97792015e+03, 3.77286089e+02,\n",
       "         8.71330461e+00]]))"
      ]
     },
     "execution_count": 55,
     "metadata": {},
     "output_type": "execute_result"
    }
   ],
   "source": [
    "chi2_contingency([[961,551,295,102,2],[7566,3061,1975,331,8]])"
   ]
  },
  {
   "cell_type": "code",
   "execution_count": 59,
   "metadata": {},
   "outputs": [
    {
     "data": {
      "text/html": [
       "<div>\n",
       "<style scoped>\n",
       "    .dataframe tbody tr th:only-of-type {\n",
       "        vertical-align: middle;\n",
       "    }\n",
       "\n",
       "    .dataframe tbody tr th {\n",
       "        vertical-align: top;\n",
       "    }\n",
       "\n",
       "    .dataframe thead th {\n",
       "        text-align: right;\n",
       "    }\n",
       "</style>\n",
       "<table border=\"1\" class=\"dataframe\">\n",
       "  <thead>\n",
       "    <tr style=\"text-align: right;\">\n",
       "      <th></th>\n",
       "      <th>count_SUD_dx_True</th>\n",
       "      <th>count_SUD_dx_False</th>\n",
       "      <th>chi2</th>\n",
       "    </tr>\n",
       "    <tr>\n",
       "      <th>Homeless</th>\n",
       "      <th></th>\n",
       "      <th></th>\n",
       "      <th></th>\n",
       "    </tr>\n",
       "  </thead>\n",
       "  <tbody>\n",
       "    <tr>\n",
       "      <th>0</th>\n",
       "      <td>1791</td>\n",
       "      <td>12761</td>\n",
       "      <td>chi^2(1) = 198.596, p=0.0</td>\n",
       "    </tr>\n",
       "    <tr>\n",
       "      <th>1</th>\n",
       "      <td>120</td>\n",
       "      <td>180</td>\n",
       "      <td>chi^2(1) = 198.596, p=0.0</td>\n",
       "    </tr>\n",
       "  </tbody>\n",
       "</table>\n",
       "</div>"
      ],
      "text/plain": [
       "          count_SUD_dx_True  count_SUD_dx_False                       chi2\n",
       "Homeless                                                                  \n",
       "0                      1791               12761  chi^2(1) = 198.596, p=0.0\n",
       "1                       120                 180  chi^2(1) = 198.596, p=0.0"
      ]
     },
     "execution_count": 59,
     "metadata": {},
     "output_type": "execute_result"
    }
   ],
   "source": [
    "chi2_table(gnc(df,'Homeless','SUD_dx'), ['count_SUD_dx_True','count_SUD_dx_False'])"
   ]
  },
  {
   "cell_type": "code",
   "execution_count": 67,
   "metadata": {},
   "outputs": [
    {
     "data": {
      "text/plain": [
       "909.0"
      ]
     },
     "execution_count": 67,
     "metadata": {},
     "output_type": "execute_result"
    }
   ],
   "source": [
    "df.Alcohol.sum()"
   ]
  },
  {
   "cell_type": "code",
   "execution_count": 68,
   "metadata": {},
   "outputs": [
    {
     "data": {
      "text/plain": [
       "SUD_dx  Alcohol\n",
       "False   0.0        12941\n",
       "True    0.0         1002\n",
       "        1.0          909\n",
       "Name: Alcohol, dtype: int64"
      ]
     },
     "execution_count": 68,
     "metadata": {},
     "output_type": "execute_result"
    }
   ],
   "source": [
    "df.groupby('SUD_dx')['Alcohol'].value_counts()"
   ]
  },
  {
   "cell_type": "code",
   "execution_count": 69,
   "metadata": {},
   "outputs": [
    {
     "name": "stdout",
     "output_type": "stream",
     "text": [
      "-------Alcohol----------\n",
      "SUD_dx  Alcohol\n",
      "False   0.0        12941\n",
      "True    0.0         1002\n",
      "        1.0          909\n",
      "Name: Alcohol, dtype: int64\n",
      "SUD_dx  Alcohol\n",
      "False   0.0        1.000000\n",
      "True    0.0        0.524333\n",
      "        1.0        0.475667\n",
      "Name: Alcohol, dtype: float64\n",
      "-------Cannabis----------\n",
      "SUD_dx  Cannabis\n",
      "False   0.0         12941\n",
      "True    0.0          1224\n",
      "        1.0           687\n",
      "Name: Cannabis, dtype: int64\n",
      "SUD_dx  Cannabis\n",
      "False   0.0         1.000000\n",
      "True    0.0         0.640502\n",
      "        1.0         0.359498\n",
      "Name: Cannabis, dtype: float64\n",
      "-------Opioid----------\n",
      "SUD_dx  Opioid\n",
      "False   0.0       12941\n",
      "True    0.0        1798\n",
      "        1.0         113\n",
      "Name: Opioid, dtype: int64\n",
      "SUD_dx  Opioid\n",
      "False   0.0       1.000000\n",
      "True    0.0       0.940869\n",
      "        1.0       0.059131\n",
      "Name: Opioid, dtype: float64\n",
      "-------Cocaine----------\n",
      "SUD_dx  Cocaine\n",
      "False   0.0        12941\n",
      "True    0.0         1773\n",
      "        1.0          138\n",
      "Name: Cocaine, dtype: int64\n",
      "SUD_dx  Cocaine\n",
      "False   0.0        1.000000\n",
      "True    0.0        0.927786\n",
      "        1.0        0.072214\n",
      "Name: Cocaine, dtype: float64\n",
      "-------Hallucinogen----------\n",
      "SUD_dx  Hallucinogen\n",
      "False   0.0             12941\n",
      "True    0.0              1830\n",
      "        1.0                81\n",
      "Name: Hallucinogen, dtype: int64\n",
      "SUD_dx  Hallucinogen\n",
      "False   0.0             1.000000\n",
      "True    0.0             0.957614\n",
      "        1.0             0.042386\n",
      "Name: Hallucinogen, dtype: float64\n",
      "-------Inhalant----------\n",
      "SUD_dx  Inhalant\n",
      "False   0.0         12941\n",
      "True    0.0          1908\n",
      "        1.0             3\n",
      "Name: Inhalant, dtype: int64\n",
      "SUD_dx  Inhalant\n",
      "False   0.0         1.00000\n",
      "True    0.0         0.99843\n",
      "        1.0         0.00157\n",
      "Name: Inhalant, dtype: float64\n",
      "-------Sedative_hypnotic----------\n",
      "SUD_dx  Sedative_hypnotic\n",
      "False   0.0                  12941\n",
      "True    0.0                   1875\n",
      "        1.0                     36\n",
      "Name: Sedative_hypnotic, dtype: int64\n",
      "SUD_dx  Sedative_hypnotic\n",
      "False   0.0                  1.000000\n",
      "True    0.0                  0.981162\n",
      "        1.0                  0.018838\n",
      "Name: Sedative_hypnotic, dtype: float64\n",
      "-------Other_Stimulants----------\n",
      "SUD_dx  Other_Stimulants\n",
      "False   0.0                 12941\n",
      "True    0.0                  1672\n",
      "        1.0                   239\n",
      "Name: Other_Stimulants, dtype: int64\n",
      "SUD_dx  Other_Stimulants\n",
      "False   0.0                 1.000000\n",
      "True    0.0                 0.874935\n",
      "        1.0                 0.125065\n",
      "Name: Other_Stimulants, dtype: float64\n",
      "-------Other_drugs----------\n",
      "SUD_dx  Other_drugs\n",
      "False   0.0            12941\n",
      "True    0.0             1626\n",
      "        1.0              285\n",
      "Name: Other_drugs, dtype: int64\n",
      "SUD_dx  Other_drugs\n",
      "False   0.0            1.000000\n",
      "True    0.0            0.850863\n",
      "        1.0            0.149137\n",
      "Name: Other_drugs, dtype: float64\n"
     ]
    }
   ],
   "source": [
    "for col in ['Alcohol','Cannabis','Opioid','Cocaine','Hallucinogen','Inhalant',\n",
    "           'Sedative_hypnotic','Other_Stimulants','Other_drugs']:\n",
    "    print(f'-------{col}----------')\n",
    "    print(df.groupby('SUD_dx')[col].value_counts())\n",
    "    print(df.groupby('SUD_dx')[col].value_counts(normalize=True))"
   ]
  },
  {
   "cell_type": "code",
   "execution_count": 74,
   "metadata": {},
   "outputs": [
    {
     "name": "stdout",
     "output_type": "stream",
     "text": [
      "-------Anxiety_disorder----------\n",
      "                  count_SUD_dx_False  percent_SUD_dx_False  count_SUD_dx_True  percent_SUD_dx_True\n",
      "Anxiety_disorder                                                                                  \n",
      "0.0                            12345              0.953945               1702             0.890633\n",
      "1.0                              596              0.046055                209             0.109367\n",
      "-------ADHD----------\n",
      "      count_SUD_dx_False  percent_SUD_dx_False  count_SUD_dx_True  percent_SUD_dx_True\n",
      "ADHD                                                                                  \n",
      "0.0                12814              0.990186               1823             0.953951\n",
      "1.0                  127              0.009814                 88             0.046049\n",
      "-------Schizophrenia----------\n",
      "               count_SUD_dx_False  percent_SUD_dx_False  count_SUD_dx_True  percent_SUD_dx_True\n",
      "Schizophrenia                                                                                  \n",
      "0.0                         12917              0.998145               1878             0.982732\n",
      "1.0                            24              0.001855                 33             0.017268\n",
      "-------PTSD----------\n",
      "      count_SUD_dx_False  percent_SUD_dx_False  count_SUD_dx_True  percent_SUD_dx_True\n",
      "PTSD                                                                                  \n",
      "0.0                12816              0.990341               1850              0.96808\n",
      "1.0                  125              0.009659                 61              0.03192\n",
      "-------Psychotic_disorder----------\n",
      "                    count_SUD_dx_False  percent_SUD_dx_False  count_SUD_dx_True  percent_SUD_dx_True\n",
      "Psychotic_disorder                                                                                  \n",
      "0.0                              12887              0.995827               1818             0.951334\n",
      "1.0                                 54              0.004173                 93             0.048666\n",
      "-------Personality_disorder----------\n",
      "                      count_SUD_dx_False  percent_SUD_dx_False  count_SUD_dx_True  percent_SUD_dx_True\n",
      "Personality_disorder                                                                                  \n",
      "0.0                                12860              0.993741               1857             0.971743\n",
      "1.0                                   81              0.006259                 54             0.028257\n",
      "-------Depression----------\n",
      "            count_SUD_dx_False  percent_SUD_dx_False  count_SUD_dx_True  percent_SUD_dx_True\n",
      "Depression                                                                                  \n",
      "0.0                      12510              0.966695               1699             0.889063\n",
      "1.0                        431              0.033305                212             0.110937\n",
      "-------Bipolar_disorder----------\n",
      "                  count_SUD_dx_False  percent_SUD_dx_False  count_SUD_dx_True  percent_SUD_dx_True\n",
      "Bipolar_disorder                                                                                  \n",
      "0.0                            12893              0.996291               1863             0.974882\n",
      "1.0                               48              0.003709                 48             0.025118\n",
      "-------MH_dx----------\n",
      "       count_SUD_dx_False  percent_SUD_dx_False  count_SUD_dx_True  percent_SUD_dx_True\n",
      "MH_dx                                                                                  \n",
      "False               11908              0.920176               1438             0.752486\n",
      "True                 1033              0.079824                473             0.247514\n"
     ]
    }
   ],
   "source": [
    "for col in ['Anxiety_disorder','ADHD','Schizophrenia','PTSD','Psychotic_disorder','Personality_disorder',\n",
    "           'Depression','Bipolar_disorder','MH_dx']:\n",
    "    print(f'-------{col}----------')\n",
    "    print(gnc(df,col,'SUD_dx'))"
   ]
  },
  {
   "cell_type": "code",
   "execution_count": 75,
   "metadata": {},
   "outputs": [
    {
     "name": "stdout",
     "output_type": "stream",
     "text": [
      "-------Anxiety_disorder----------\n",
      "                  count_SUD_dx_True  count_SUD_dx_False                       chi2\n",
      "Anxiety_disorder                                                                  \n",
      "0.0                            1702               12345  chi^2(1) = 128.965, p=0.0\n",
      "1.0                             209                 596  chi^2(1) = 128.965, p=0.0\n",
      "-------ADHD----------\n",
      "      count_SUD_dx_True  count_SUD_dx_False                       chi2\n",
      "ADHD                                                                  \n",
      "0.0                1823               12814  chi^2(1) = 150.717, p=0.0\n",
      "1.0                  88                 127  chi^2(1) = 150.717, p=0.0\n",
      "-------Schizophrenia----------\n",
      "               count_SUD_dx_True  count_SUD_dx_False                      chi2\n",
      "Schizophrenia                                                                 \n",
      "0.0                         1878               12917  chi^2(1) = 99.485, p=0.0\n",
      "1.0                           33                  24  chi^2(1) = 99.485, p=0.0\n",
      "-------PTSD----------\n",
      "      count_SUD_dx_True  count_SUD_dx_False                      chi2\n",
      "PTSD                                                                 \n",
      "0.0                1850               12816  chi^2(1) = 64.937, p=0.0\n",
      "1.0                  61                 125  chi^2(1) = 64.937, p=0.0\n",
      "-------Psychotic_disorder----------\n",
      "                    count_SUD_dx_True  count_SUD_dx_False                      chi2\n",
      "Psychotic_disorder                                                                 \n",
      "0.0                              1818               12887  chi^2(1) = 331.84, p=0.0\n",
      "1.0                                93                  54  chi^2(1) = 331.84, p=0.0\n",
      "-------Personality_disorder----------\n",
      "                      count_SUD_dx_True  count_SUD_dx_False                      chi2\n",
      "Personality_disorder                                                                 \n",
      "0.0                                1857               12860  chi^2(1) = 87.036, p=0.0\n",
      "1.0                                  54                  81  chi^2(1) = 87.036, p=0.0\n",
      "-------Depression----------\n",
      "            count_SUD_dx_True  count_SUD_dx_False                       chi2\n",
      "Depression                                                                  \n",
      "0.0                      1699               12510  chi^2(1) = 240.409, p=0.0\n",
      "1.0                       212                 431  chi^2(1) = 240.409, p=0.0\n",
      "-------Bipolar_disorder----------\n",
      "                  count_SUD_dx_True  count_SUD_dx_False                       chi2\n",
      "Bipolar_disorder                                                                  \n",
      "0.0                            1863               12893  chi^2(1) = 115.526, p=0.0\n",
      "1.0                              48                  48  chi^2(1) = 115.526, p=0.0\n"
     ]
    }
   ],
   "source": [
    "for col in ['Anxiety_disorder','ADHD','Schizophrenia','PTSD','Psychotic_disorder','Personality_disorder',\n",
    "           'Depression','Bipolar_disorder']:\n",
    "    print(f'-------{col}----------')\n",
    "    print(chi2_table(gnc(df,col,'SUD_dx'),['count_SUD_dx_True','count_SUD_dx_False']))"
   ]
  },
  {
   "cell_type": "code",
   "execution_count": 78,
   "metadata": {},
   "outputs": [
    {
     "data": {
      "text/html": [
       "<div>\n",
       "<style scoped>\n",
       "    .dataframe tbody tr th:only-of-type {\n",
       "        vertical-align: middle;\n",
       "    }\n",
       "\n",
       "    .dataframe tbody tr th {\n",
       "        vertical-align: top;\n",
       "    }\n",
       "\n",
       "    .dataframe thead th {\n",
       "        text-align: right;\n",
       "    }\n",
       "</style>\n",
       "<table border=\"1\" class=\"dataframe\">\n",
       "  <thead>\n",
       "    <tr style=\"text-align: right;\">\n",
       "      <th></th>\n",
       "      <th>count_SUD_dx_False</th>\n",
       "      <th>percent_SUD_dx_False</th>\n",
       "      <th>count_SUD_dx_True</th>\n",
       "      <th>percent_SUD_dx_True</th>\n",
       "    </tr>\n",
       "    <tr>\n",
       "      <th>MH_dx</th>\n",
       "      <th></th>\n",
       "      <th></th>\n",
       "      <th></th>\n",
       "      <th></th>\n",
       "    </tr>\n",
       "  </thead>\n",
       "  <tbody>\n",
       "    <tr>\n",
       "      <th>False</th>\n",
       "      <td>11908</td>\n",
       "      <td>0.920176</td>\n",
       "      <td>1438</td>\n",
       "      <td>0.752486</td>\n",
       "    </tr>\n",
       "    <tr>\n",
       "      <th>True</th>\n",
       "      <td>1033</td>\n",
       "      <td>0.079824</td>\n",
       "      <td>473</td>\n",
       "      <td>0.247514</td>\n",
       "    </tr>\n",
       "  </tbody>\n",
       "</table>\n",
       "</div>"
      ],
      "text/plain": [
       "       count_SUD_dx_False  percent_SUD_dx_False  count_SUD_dx_True  percent_SUD_dx_True\n",
       "MH_dx                                                                                  \n",
       "False               11908              0.920176               1438             0.752486\n",
       "True                 1033              0.079824                473             0.247514"
      ]
     },
     "execution_count": 78,
     "metadata": {},
     "output_type": "execute_result"
    }
   ],
   "source": [
    "gnc(df,'MH_dx','SUD_dx')"
   ]
  },
  {
   "cell_type": "code",
   "execution_count": 79,
   "metadata": {},
   "outputs": [
    {
     "data": {
      "text/plain": [
       "(512.0329623294207,\n",
       " 2.2903506665724396e-113,\n",
       " 1,\n",
       " array([[ 1312.22367358, 11628.77632642],\n",
       "        [  193.77632642,  1717.22367358]]))"
      ]
     },
     "execution_count": 79,
     "metadata": {},
     "output_type": "execute_result"
    }
   ],
   "source": [
    "chi2_contingency([[1033,11908],[473,1438]])"
   ]
  },
  {
   "cell_type": "code",
   "execution_count": 81,
   "metadata": {},
   "outputs": [
    {
     "data": {
      "text/html": [
       "<div>\n",
       "<style scoped>\n",
       "    .dataframe tbody tr th:only-of-type {\n",
       "        vertical-align: middle;\n",
       "    }\n",
       "\n",
       "    .dataframe tbody tr th {\n",
       "        vertical-align: top;\n",
       "    }\n",
       "\n",
       "    .dataframe thead th {\n",
       "        text-align: right;\n",
       "    }\n",
       "</style>\n",
       "<table border=\"1\" class=\"dataframe\">\n",
       "  <thead>\n",
       "    <tr style=\"text-align: right;\">\n",
       "      <th></th>\n",
       "      <th>count_SUD_dx_False</th>\n",
       "      <th>percent_SUD_dx_False</th>\n",
       "      <th>count_SUD_dx_True</th>\n",
       "      <th>percent_SUD_dx_True</th>\n",
       "    </tr>\n",
       "    <tr>\n",
       "      <th>psych_admits_90d</th>\n",
       "      <th></th>\n",
       "      <th></th>\n",
       "      <th></th>\n",
       "      <th></th>\n",
       "    </tr>\n",
       "  </thead>\n",
       "  <tbody>\n",
       "    <tr>\n",
       "      <th>0</th>\n",
       "      <td>12897</td>\n",
       "      <td>0.9966</td>\n",
       "      <td>1891</td>\n",
       "      <td>0.989534</td>\n",
       "    </tr>\n",
       "    <tr>\n",
       "      <th>1</th>\n",
       "      <td>44</td>\n",
       "      <td>0.0034</td>\n",
       "      <td>20</td>\n",
       "      <td>0.010466</td>\n",
       "    </tr>\n",
       "  </tbody>\n",
       "</table>\n",
       "</div>"
      ],
      "text/plain": [
       "                  count_SUD_dx_False  percent_SUD_dx_False  count_SUD_dx_True  percent_SUD_dx_True\n",
       "psych_admits_90d                                                                                  \n",
       "0                              12897                0.9966               1891             0.989534\n",
       "1                                 44                0.0034                 20             0.010466"
      ]
     },
     "execution_count": 81,
     "metadata": {},
     "output_type": "execute_result"
    }
   ],
   "source": [
    "gnc(df, 'psych_admits_90d', 'SUD_dx')"
   ]
  },
  {
   "cell_type": "code",
   "execution_count": 82,
   "metadata": {},
   "outputs": [
    {
     "data": {
      "text/plain": [
       "(17.76277435279532,\n",
       " 2.502316315718194e-05,\n",
       " 1,\n",
       " array([[1.28852349e+04, 5.57651495e+01],\n",
       "        [1.90276515e+03, 8.23485053e+00]]))"
      ]
     },
     "execution_count": 82,
     "metadata": {},
     "output_type": "execute_result"
    }
   ],
   "source": [
    "chi2_contingency([[12897,44],[1891,20]])"
   ]
  },
  {
   "cell_type": "code",
   "execution_count": null,
   "metadata": {},
   "outputs": [],
   "source": []
  }
 ],
 "metadata": {
  "kernelspec": {
   "display_name": "Python 3",
   "language": "python",
   "name": "python3"
  },
  "language_info": {
   "codemirror_mode": {
    "name": "ipython",
    "version": 3
   },
   "file_extension": ".py",
   "mimetype": "text/x-python",
   "name": "python",
   "nbconvert_exporter": "python",
   "pygments_lexer": "ipython3",
   "version": "3.7.6"
  }
 },
 "nbformat": 4,
 "nbformat_minor": 4
}
